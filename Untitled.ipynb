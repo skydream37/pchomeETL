{
 "cells": [
  {
   "cell_type": "code",
   "execution_count": 2,
   "metadata": {
    "collapsed": true
   },
   "outputs": [],
   "source": [
    "from bs4 import BeautifulSoup\n",
    "import requests as res"
   ]
  },
  {
   "cell_type": "code",
   "execution_count": 3,
   "metadata": {},
   "outputs": [
    {
     "data": {
      "text/plain": [
       "<Response [200]>"
      ]
     },
     "execution_count": 3,
     "metadata": {},
     "output_type": "execute_result"
    }
   ],
   "source": [
    "pchome_res=res.get('http://www.pcstore.com.tw/stexh/N104714?pa=000013104714&st_sort=1&useec3=&showstyle=GraphWord&slt_k_range=&s_page=1&pql_word=&page_count=60&p_sup_kind_b=2&p_cate=all&store_cart=&p_ff=')\n",
    "pchome_res.encoding = 'big5'\n",
    "pchome_res"
   ]
  },
  {
   "cell_type": "code",
   "execution_count": 15,
   "metadata": {
    "collapsed": true
   },
   "outputs": [],
   "source": [
    "pchome_soup = BeautifulSoup(pchome_res.text,'html.parser')"
   ]
  },
  {
   "cell_type": "code",
   "execution_count": null,
   "metadata": {
    "collapsed": true
   },
   "outputs": [],
   "source": [
    "#keyad-pro-right3 > div.pic2.pic2-sclass > div.pic3 > span"
   ]
  },
  {
   "cell_type": "code",
   "execution_count": 56,
   "metadata": {},
   "outputs": [
    {
     "name": "stdout",
     "output_type": "stream",
     "text": [
      "人道捕鼠瓶,老鼠瓶非黏鼠板/老鼠籠,捕鼠器,抓老鼠,耗子專利認證 B7713【DL480】◎90168批發◎\n",
      "119\n",
      "滿699元免運費\n",
      "===============================\n",
      "新流行 自動掃地神器自動掃地機手推式不用電手動清潔神器 掃地機掃把機畚箕\n",
      "250\n",
      "\n",
      "===============================\n",
      "婆媽狂推日春神奇去污皂-神奇去汙皂-回購率NO.1-洗衣家事清潔皂-香皂-手工肥皂 高CP值強力去汙\n",
      "20\n",
      "\n",
      "===============================\n",
      "ZOJIRUSHI 象印 CD-K03E 熱水瓶內容器清洗用檸檬酸(4入)\n",
      "200\n",
      "\n",
      "===============================\n",
      "日本技術指導+台灣專業生產 – WealMax 奈米環保洗衣魔力球\n",
      "750\n",
      "單筆運費60元\n",
      "===============================\n",
      "桿+桶+1布《小資方案超值組2年保固-附發票》兩組免運 全不�袗�神拖組 壽命三倍 手壓式旋轉式拖把 清潔用品 好神拖通用\n",
      "599\n",
      "\n",
      "===============================\n",
      "一包３１全網最低　愛康衛生棉(等一周補貨)\n",
      "31\n",
      "\n",
      "===============================\n",
      "拖把*雙面40cm加大款懶人拖＊4片拖把布【升級第五代】神奇魔氈更乾淨*免手洗＊可站立＊掃地吸塵清潔＊乾濕兩用\n",
      "499\n",
      "\n",
      "===============================\n",
      "不鏽鋼好神拖贈兩個拖把頭\n",
      "899\n",
      "滿1000元免運費\n",
      "===============================\n",
      "澳洲代購-Gran's Remedy紐西蘭老奶奶神奇除腳臭粉\n",
      "640\n",
      "\n",
      "===============================\n",
      "angry mama 生氣媽媽 憤怒媽媽 微波爐清潔器 不挑色\n",
      "99\n",
      "\n",
      "===============================\n",
      "現貨   愛康衛生棉  沁涼      全網最低價 現貨\n",
      "32\n",
      "\n",
      "===============================\n",
      "＊刷卡6期零利率＊清潔神器＊美國最新電動清潔刷只要１２９０輕鬆入手！送清潔刷頭組！再送千元抵用券！\n",
      "1,290\n",
      "滿9999元免運費\n",
      "===============================\n",
      "P&G; BOLD強力洗衣膠球 375g/18顆入(袋裝)(4色大量現貨)(白葉花香淺藍)\n",
      "115\n",
      "\n",
      "===============================\n",
      "限時>>現貨>>日本P&G; 洗衣膠球 洗衣球 洗衣凝膠球 補充包\n",
      "108\n",
      "\n",
      "===============================\n",
      "【QC館】萬用吸管刷(羊毛or尼龍)/環保清潔/粗細吸管都適合刷用/100%台灣製造\n",
      "70\n",
      "\n",
      "===============================\n",
      "日本P&G; ARIEL GEL BALL 3D洗衣膠球(補充包) 抗菌防臭/自然花香/淨白消臭/陽光香氛\n",
      "110\n",
      "滿3000元免運費\n",
      "===============================\n",
      "珊瑚絨除塵去汙布\n",
      "99\n",
      "\n",
      "===============================\n",
      " 3M 水垢鏽斑清潔劑946ml 對付特別水垢皂垢鏽斑 掃除最佳幫手 \n",
      "280\n",
      "\n",
      "===============================\n",
      "車用垃圾袋多功能收納袋，3捲1組優惠價149元\n",
      "149\n",
      "\n",
      "===============================\n",
      "限時>>現貨>>日本P&G; 洗衣球 洗衣膠球  補充包\n",
      "109\n",
      "單筆運費70元\n",
      "===============================\n",
      "日本P&G; ARIEL GEL BALL 3D洗衣膠球(盒裝) 抗菌防臭/自然花香/淨白消臭/陽光香氛 洗衣球\n",
      "120\n",
      "\n",
      "===============================\n",
      "《嚴選超值組》【油酵清】水管除油酵素-三罐超值組，原價1440元，特惠1190元\n",
      "1,190\n",
      "\n",
      "===============================\n",
      "美國GONESH#8春之薄霧精油線香超值包(100枝入)\n",
      "299\n",
      "\n",
      "===============================\n",
      "珊瑚絨除塵去汙布*2\n",
      "100\n",
      "免運費\n",
      "===============================\n",
      "現貨p&g18;入洗衣膠球洗衣球洗衣膠囊洗衣精粉香顆粒香香豆4色現貨\n",
      "108\n",
      "\n",
      "===============================\n",
      "《嚴選超值組》 【除臭王】X1+【油酵清】X1+【尿垢清】X1，原價1,210元，特惠1080元\n",
      "1,080\n",
      "單筆運費70元\n",
      "===============================\n",
      "《綠大地油酵清》水管除油酵素-250克/罐【清潔酵素，預防水管阻塞、蟑螂孳生、除臭、除油】\n",
      "480\n",
      "\n",
      "===============================\n",
      "吸管刷 SB12 軟毛 大吸管刷 珍珠吸管刷 大管徑吸管刷 10mm 12mm 15mm 柔軟刷毛 實用萬用\n",
      "49\n",
      "\n",
      "===============================\n",
      "日本GONESH#8春之薄霧空氣芳香膠(固體)78g\n",
      "220\n",
      "滿3000元免運費\n",
      "===============================\n",
      "艾草養生無毒防護薰香 鐵盒15捲(可拆成30環)  環保紙盒16捲(可拆成32環) 花壇艾草之家 艾草蚊香\n",
      "190\n",
      "\n",
      "===============================\n",
      "【回饋買就送】木酢達人-知名電視專訪-360行向前衝！黃金水洗衣精四組入【1000ml單入+1000ml補充x3】【#80211】年終回饋買就送\n",
      "售價$1,500  \n",
      "\n",
      "===============================\n",
      "《綠大地除臭王》馬桶清潔酵素-250克/罐【分解管垢，消除臭源、預防水管阻塞、減少蟑螂孳生】\n",
      "1,320\n",
      "\n",
      "===============================\n",
      "不沾油抹布\n",
      "450\n",
      "滿2000元免運費\n",
      "===============================\n",
      "木酢達人-天然木酢丸組合4盒組【#80253】持續發散木酢氣味 驅蟲 防蟑 去味\n",
      "200\n",
      "\n",
      "===============================\n",
      "【GRANDE】耳掛式│工業歐規FFP1-CFD3S防塵口罩│40片5盒│含稅附發票\n",
      "售價$650  \n",
      "\n",
      "===============================\n",
      "餐具洗滌酵素~食器餐具專用洗滌劑（補充包）\n",
      "572\n",
      "滿690元免運費\n",
      "===============================\n",
      "日本長效366日 1.5倍驅蚊效果 防蚊大作戰\n",
      "500\n",
      "\n",
      "===============================\n",
      "洗衣精\n",
      "320\n",
      "\n",
      "===============================\n",
      "加厚柔軟，超吸水地墊，珊瑚絨地毯 ，止滑地毯，浴室 廚房 臥室 腳踏墊\n",
      "290\n",
      "滿99元免運費\n",
      "===============================\n",
      "噴大師 木器補色筆 木製品刮傷 掉色 補色\n",
      "420\n",
      "\n",
      "===============================\n",
      "＊lilicoco生活無限＊◇日本 P&G;衣物芳香顆粒.衣物香香豆  275g 及375g ◇(200元)\n",
      "60\n",
      "\n",
      "===============================\n",
      "木酢達人-知名電視專訪-360行向前衝！黃金水洗衣精1000ml兩組入（含一瓶補充罐）【#80247】\n",
      "99\n",
      "\n",
      "===============================\n",
      "法國PSA - SKIN 2P BODY 乳液型防蚊液(30ml) 三瓶組\n",
      "200\n",
      "免運費\n",
      "===============================\n",
      "十色 新款 日本P&G;第二代 新款衣物芳香顆粒 衣物香香豆 375g\n",
      "售價$780  \n",
      "\n",
      "===============================\n",
      "《嚴選超值組》【除臭王】兩罐 +【油酵清】兩罐 ，原價1,860元，特價1,500元\n",
      "687\n",
      "\n",
      "===============================\n",
      "[藍天小舖]實體店面現貨供應~快速出貨  犀利媽媽  馬桶自動清潔器 芳香 清潔劑(100ml) 味道可任選\n",
      "680\n",
      "單筆運費60元\n",
      "===============================\n",
      "▼17週年慶↘熱銷夯品TOP！▼舒潔 棉柔舒適抽取衛生紙(110抽x12包x6串/箱)  \n",
      "185\n",
      "\n",
      "===============================\n",
      "天然風水淨化劑--Diwali Lighthouse光屋（原 我的光屋)，淨化空間、水晶的好幫手！\n",
      "1,500\n",
      "\n",
      "===============================\n",
      "拜沛達蟑螂凝膠型餌劑12g(滅蟑&除蟑螂藥)最新上市經濟包裝採用軟管設計\n",
      "58\n",
      "\n",
      "===============================\n",
      "【養生小舖】友愛地球 ~ 天然檸檬酸(食品級1000g裝)\n",
      "769\n",
      "滿5200元免運費\n",
      "===============================\n",
      "現貨 紐西蘭25% 防蚊液 60ml 滾珠瓶\n",
      "1,900\n",
      "\n",
      "===============================\n",
      "現貨免問 日本【長效366日】1.5倍驅蚊效果  天然驅蚊 防蚊吊掛 防蚊掛片(299元)\n",
      "279\n",
      "\n",
      "===============================\n",
      "日本P&G;  洗衣膠球 【精緻盒裝】\n",
      "149\n",
      "\n",
      "===============================\n",
      "興家安速安適液體電蚊香組(器+液42ml)(買一再送一共兩組)199元\n",
      "460\n",
      "滿1000元免運費\n",
      "===============================\n",
      "免手洗懶人平板拖把\n",
      "299\n",
      "\n",
      "===============================\n",
      "【綠大地化糞清】水肥分解酵素，原價2240元，特價1790元\n",
      "119\n",
      "\n",
      "===============================\n",
      "可立潔 - 萬用去污乳 \n",
      "199\n",
      "\n",
      "===============================\n",
      "【特價】Whirlpool惠而浦洗衣機濾網【三個免運費】惠而浦洗衣機過濾網.惠而浦洗衣機棉絮過濾網\n",
      "199\n",
      "\n",
      "===============================\n",
      "木酢達人-天然木酢丸1盒【#31002】持續發散木酢氣味 驅蟲 防蟑 去味\n",
      "1,790\n",
      "滿2000元免運費\n",
      "===============================\n"
     ]
    }
   ],
   "source": [
    "product_names=pchome_soup.select('div.pic2.pic2-sclass > div.pic2t.pic2t_bg > a')\n",
    "product_prices=pchome_soup.select('div.pic2.pic2-sclass > div.pic3 > span')\n",
    "product_fees=pchome_soup.select('div.pic2.pic2-sclass > div.shoppingfee > span')\n",
    "for i in range(len(product_names)):\n",
    "    print(product_names[i].text)\n",
    "    print(product_prices[i].text)\n",
    "    print(product_fees[i].text)\n",
    "    print('===============================')\n"
   ]
  },
  {
   "cell_type": "code",
   "execution_count": 54,
   "metadata": {},
   "outputs": [
    {
     "data": {
      "text/plain": [
       "<span class=\"payicon\"><img align=\"absmiddle\" src=\"http://img.pcstore.com.tw/web_img/spacer.gif\" surl=\"http://img.pcstore.com.tw/web_img/st/search_icon_payment_atm.gif\" title=\"ATM\"/></span>"
      ]
     },
     "execution_count": 54,
     "metadata": {},
     "output_type": "execute_result"
    }
   ],
   "source": [
    "product_fees[2]"
   ]
  },
  {
   "cell_type": "code",
   "execution_count": 47,
   "metadata": {},
   "outputs": [
    {
     "data": {
      "text/plain": [
       "'滿699元免運費'"
      ]
     },
     "execution_count": 47,
     "metadata": {},
     "output_type": "execute_result"
    }
   ],
   "source": [
    "product_prices=pchome_soup.select('div.pic2.pic2-sclass > div.shoppingfee > span')\n",
    "product_prices[0].text"
   ]
  },
  {
   "cell_type": "code",
   "execution_count": null,
   "metadata": {
    "collapsed": true
   },
   "outputs": [],
   "source": [
    "#keyad-pro-right3 > div.pic2.pic2-sclass > div.shoppingfee > a > span"
   ]
  },
  {
   "cell_type": "code",
   "execution_count": null,
   "metadata": {
    "collapsed": true
   },
   "outputs": [],
   "source": [
    "#keyad-pro-right3 > div.pic2.pic2-sclass > div.shoppingfee > span:nth-child(1)"
   ]
  },
  {
   "cell_type": "code",
   "execution_count": null,
   "metadata": {
    "collapsed": true
   },
   "outputs": [],
   "source": [
    "#keyad-pro-right3 > div.pic2.pic2-sclass > div.shoppingfee > span:nth-child(1)"
   ]
  },
  {
   "cell_type": "code",
   "execution_count": null,
   "metadata": {
    "collapsed": true
   },
   "outputs": [],
   "source": [
    "#keyad-pro-right3 > div.pic2.pic2-sclass > div.shoppingfee > a > span"
   ]
  },
  {
   "cell_type": "code",
   "execution_count": 12,
   "metadata": {},
   "outputs": [
    {
     "data": {
      "text/plain": [
       "'<!DOCTYPE html PUBLIC \"-//W3C//DTD XHTML 1.0 Transitional//EN\" \"http://www.w3.org/TR/xhtml1/DTD/xhtml1-transitional.dtd\">\\r\\n<html xmlns=\"http://www.w3.org/1999/xhtml\">\\r\\n<head>\\r\\n<meta http-equiv=\"Content-Type\" content=\"text/html; charset=big5\">\\r\\n<title>PChome 商店街</title>\\r\\n<link rel=\"icon\" href=\"http://img.pcstore.com.tw/web_img/favicon.ico\" type=\"image/x-icon\">\\n<link rel=\"shortcut icon\" href=\"http://img.pcstore.com.tw/web_img/favicon.ico\" type=\"image/x-icon\">\\n<link href=\"/css/style_lm2_normal.css?t=10\" rel=\"stylesheet\" type=\"text/css\">\\n<link href=\"/css/real_fcache/grid_bar.css?t=1495615758\" rel=\"stylesheet\" type=\"text/css\">\\n<link href=\"/css/style.css?t=1224830081\" rel=\"stylesheet\" type=\"text/css\">\\r\\n<script language=\"JavaScript\" src=\"/css/extjs/ext.js?t=10\"></script> \\r\\n<script language=\"JavaScript\" src=\"/css/extjs/stern3.js?t=10\"></script>\\r\\n<script language=\"JavaScript\" src=\"/css/store.js?t=35\"></script>\\r\\n<script language=\"JavaScript\" src=\"/css/store_tools.js?t=12\"></script>\\r\\n<script language=\"JavaScript\" src=\"/css/search_autoword.js?t=10\"></script>\\r\\n\\r\\n<script language=\"javascript\" src=\"http://img.pcstore.com.tw/jcss/dynimg.js?pimg=static&p=8\"></script>\\r\\n</head>\\r\\n\\r\\n<body class=\"twoColFixLtHdr\">\\r\\n<a name=\"top\"></a>\\r\\n<form method=\"post\" name=\"main_store\" onSubmit=\"return false;\" action=\"\">\\r\\n<div id=\"container\">\\r\\n<!-- 最上方資訊列 START -->\\r\\n<script language=\"JavaScript\" type=\"text/JavaScript\">\\r\\n  function mob_checkprc() {\\r\\n    if (window.location.protocol == \"http:\" && (window.location.href.indexOf(\\'/\\',8) == window.location.href.lastIndexOf(\\'/\\') || window.location.href.match(/\\\\/index.htm/i) )\\r\\n       ) { \\r\\n      jscookie = new CookieHaldle(\"/\",window.location.host.replace(/(.+\\\\.)(.*pc?store.com.tw)/, \"$2\"));\\r\\n      if (jscookie.getCookie(\"mob_frto\") != null && jscookie.getCookie(\"mob_frto\") == 1) { return; }\\r\\n      \\r\\n      var mob_t1,mob_t2,mob_wcm,mob_hcm,mob_diagonal,mob_scr_inh,mob_dvs;\\r\\n      mob_t_w=window.screen.width;  mob_t_h=window.screen.height;\\r\\n      mob_diagonal=Math.pow(mob_t_w,2)+Math.pow(mob_t_h,2);\\r\\n      mob_diagonal=Math.sqrt(mob_diagonal);\\r\\n      mob_dvs=145;  // 96\\r\\n      if (mob_t_h >= 1280) { mob_dvs=350; }\\r\\n      mob_diagonal=mob_diagonal/mob_dvs;  \\r\\n      mob_diagonal=mob_diagonal.toFixed(2);\\r\\n\\r\\n      if (mob_diagonal < 7) { \\r\\n        //window.location.href=\\'http://m.pcstore.com.tw\\'+\\'?\\'+mob_diagonal;\\r\\n        jscookie.setCookie(\"mob_frto\", 3); \\r\\n        window.location.href=\\'http://m.pcstore.com.tw\\'; \\r\\n      }\\r\\n    }\\r\\n  }\\r\\n  mob_checkprc();\\r\\n  //eventUtil.ready(mob_checkprc);  \\r\\n  \\r\\n  function mob_frtoprc() {\\r\\n    var mob_frto;\\r\\n    jscookie = new CookieHaldle(\"/\",window.location.host.replace(/(.+\\\\.)(.*pc?store.com.tw)/, \"$2\"));\\r\\n    mob_frto=2;\\r\\n    jscookie.setCookie(\"mob_frto\", mob_frto); \\r\\n    window.location.href=\\'http://m.pcstore.com.tw\\'; \\r\\n  }\\r\\n</script>\\r\\n<div id=\"header_v3\">\\r\\n  <div class=\"left\"><a href=\"http://www.pcstore.com.tw/\"><img src=\"http://img.pcstore.com.tw/web_img/spacer.gif\" surl=\"http://img.pcstore.com.tw/web_img/st/pchome_logo.gif\" width=\"252\" height=\"42\" border=\"0\"></a><br>\\r\\n\\r\\n  <span class=\"t11\"><span class=\"left\">今日商品</span><span class=\"leftcon-left\">&nbsp;</span><span class=\"leftcon-right\">137,951,240</span><span class=\"left\" style=\"margin-right:8px;\">件</span></span>\\r\\n  <span class=\"t11\"><span class=\"left\">店家</span><span class=\"leftcon-left\">&nbsp;</span><span class=\"leftcon-right\">24,545</span><span class=\"left\">家</span></span>\\r\\n  </div>\\r\\n \\r\\n  <div class=\"right\">\\r\\n    <span class=\"rightcon-right\">    \\t\\r\\n      <span><img src=\"http://img.pcstore.com.tw/web_img/spacer.gif\" surl=\"http://img.pcstore.com.tw/web_img/st/arrow_2.gif\" width=\"3\" height=\"5\" align=\"absmiddle\"><a onclick=\"mob_frtoprc()\" style=\"cursor:pointer\">手機版</a></span><span><img src=\"http://img.pcstore.com.tw/web_img/spacer.gif\" surl=\"http://img.pcstore.com.tw/web_img/st/arrow_2.gif\" width=\"3\" height=\"5\" align=\"absmiddle\"><a href=\"http://www.pcstore.com.tw/\">商店街</a></span><span><img src=\"http://img.pcstore.com.tw/web_img/spacer.gif\" surl=\"http://img.pcstore.com.tw/web_img/st/arrow_2.gif\" width=\"3\" height=\"5\" align=\"absmiddle\"><a href=\"http://www.pchome.com.tw/\" target=\"_BLANK\">PChome</a></span><span><img src=\"http://img.pcstore.com.tw/web_img/spacer.gif\" surl=\"http://img.pcstore.com.tw/web_img/st/arrow_2.gif\" width=\"3\" height=\"5\" align=\"absmiddle\"><a href=\"http://seller.pcstore.com.tw/service/\" target=\"_blank\">客服中心</a></span><span><img src=\"http://img.pcstore.com.tw/web_img/spacer.gif\" surl=\"http://img.pcstore.com.tw/web_img/st/arrow_2.gif\" width=\"3\" height=\"5\" align=\"absmiddle\"><a href=\"https://paystore.pcstore.com.tw/adm/myacc_ordlist.htm\"><b>登入</b></a></span>\\r\\n    </span>\\r\\n    <div class=\"clear\"></div>\\r\\n    <div class=\"rightcon-bottom\">        \\t\\r\\n    <span class=\"t12b\"><img src=\"http://img.pcstore.com.tw/web_img/spacer.gif\" surl=\"http://img.pcstore.com.tw/web_img/st/arrow_1.gif\" width=\"13\" height=\"12\" align=\"absmiddle\"><a href=\"http://boss.pcstore.com.tw/ad.htm?ad=top\">我要開店</a></span>    \\r\\n    <span class=\"t12b\"><img src=\"http://img.pcstore.com.tw/web_img/spacer.gif\" surl=\"http://img.pcstore.com.tw/web_img/st/arrow_1.gif\" width=\"13\" height=\"12\" align=\"absmiddle\"><a href=\"\" style=\"color:#ff0000\" target=\"_BLANK\">個人賣場</a></span> \\r\\n    <span class=\"t12b\"><img src=\"http://img.pcstore.com.tw/web_img/spacer.gif\" surl=\"http://img.pcstore.com.tw/web_img/st/arrow_1.gif\" width=\"13\" height=\"12\" align=\"absmiddle\"><a href=\"https://paystore.pcstore.com.tw/adm/myacc_ordlist.htm\">我的帳戶</a></span>\\r\\n    <span class=\"t12b\"><img src=\"http://img.pcstore.com.tw/web_img/spacer.gif\" surl=\"http://img.pcstore.com.tw/web_img/st/arrow_1.gif\" width=\"13\" height=\"12\" align=\"absmiddle\"><a href=\"http://www.pcstore.com.tw/adm/buy_cart_list.htm\">購物車</a></span>\\r\\n    </div>\\r\\n  </div>\\r\\n\\r\\n  <div id=\"top-search\">\\r\\n      <select class=\"search_option\" name=\"slt_k_option\" onmouseout=\"this.size=1;\" onmouseover=\"this.size=7;\" onclick=\"this.size=1;\" size=\"1\">  \\r\\n        <option value=\"1\" >全部商品</option>\\r\\n        <option value=\"14\" >24h快速到貨</option>\\r\\n        <option value=\"12\" >跨店490</option>\\r\\n        <option value=\"2\" >商場名稱</option>\\r\\n                <option value=\"9\" >隔日配</option>\\r\\n        <option value=\"8\" >超商取貨</option>\\r\\n                <option value=\"7\" >集殺商品</option>\\r\\n        <option value=\"10\" >商品編號</option>\\r\\n                </select>        \\r\\n        <input x-webkit-speech=\"\" lang=\"zh-TW\" x-webkit-grammar=\"builtin:search\" id=\"id_search_word\" name=\"store_k_word\" type=\"text\" size=\"20\" value=\"\" onkeyup=\"autodirection(this, event)\" onkeydown=\"updownselect(this, event);p_keydown(this.value, \\'psearch\\', \\'/adm/psearch.htm\\',\\'\\',event)\" onfocus=\"bind_autoslt();\" title=\"NOT_CHECK\" autocomplete=\"off\"><img class=\"search_btn\" src=\"http://img.pcstore.com.tw/web_img/spacer.gif\" surl=\"http://img.pcstore.com.tw/web_img/st/top_search_button.png\" onclick=\"s_k_search(\\'/adm/psearch.htm\\')\">\\r\\n        <a href=\"/adm/psearch_plus.htm\" class=\"t10\">進階&#187;</a>\\r\\n        <div style=\"clear:both;position:absolute;left:98px;top:35px;\" id=\"id_search_area\"></div>\\r\\n  </div>\\r\\n\\r\\n</div>\\r\\n<div class=\"clear\"></div>\\r\\n<!-- 最上方資訊列 END -->\\r\\n\\r\\n<!-- 主功能區塊 START -->\\r\\n  \\r\\n<body>\\r\\n<!-- 牙齒 START -->\\r\\n<div class=\"thMenu_bar\">\\r\\n<a class=\"thMenu_store\" href=\"http://www.pcstore.com.tw/index_ct.htm\"><!--專櫃--></a>\\r\\n<a class=\"thMenu_boss\" href=\"http://boss.pcstore.com.tw/ad.htm?ad=tag\"><!--開店--></a>\\r\\n<a class=\"thMenu_shopping\" href=\"http://mall.pcstore.com.tw\"><!--購物中心--></a>\\r\\n<a class=\"thMenu_c2c\" href=\"http://seller.pcstore.com.tw/\"><!--個人賣場--></a>\\r\\n\\r\\n<a class=\"thMenu_fashion\" href=\"http://boss.pcstore.com.tw/ad.htm?ad=fa170529\"><!--女性流行--></a>\\r\\n<a class=\"thMenu_baby\" href=\"http://boss.pcstore.com.tw/ad.htm?ad=baby170529\"><!--婦幼親子--></a>\\r\\n<a class=\"thMenu_life\" href=\"http://boss.pcstore.com.tw/ad.htm?ad=life170529\"><!--居家寵物--></a>\\r\\n<a class=\"thMenu_man\" href=\"http://boss.pcstore.com.tw/ad.htm?ad=men170529\"><!--運動休閒--></a>\\r\\n<a class=\"thMenu_3c\" href=\"http://boss.pcstore.com.tw/ad.htm?ad=3C170529\"><!--3C週邊--></a>\\r\\n<a class=\"thMenu_appliances\" href=\"http://boss.pcstore.com.tw/ad.htm?ad=ia170529\"><!--生活家電--></a>\\r\\n<a class=\"thMenu_food\" href=\"http://boss.pcstore.com.tw/ad.htm?ad=food170529\"><!--美食保健--></a>\\r\\n<a class=\"thMenu_event\" href=\"http://www.pcstore.com.tw/pchome24h/\" target=\"_blank\"><!--活動用--></a>\\r\\n</div>\\r\\n<!-- 牙齒 END -->\\r\\n</body>\\r\\n</html>  \\r\\n\\r\\n<!-- 氣氛圖 -->\\r\\n<div class=\"cb_top10px\"></div>\\r\\n<!-- 導覽路徑 -->\\r\\n<div id=\"nov-bar\"><a href=\"http://www.pchome.com.tw/\">PChome</a> > <a href=\"http://www.pcstore.com.tw/\">商店街首頁</a> </div>\\r\\n<!-- 主功能區塊 END -->\\r\\n\\r\\n<!-- 主區 START -->\\r\\n<div>\\r\\n\\r\\n  <!--內容開始 -->\\r\\n  <table width=\"970\" border=\"0\" cellspacing=\"0\" cellpadding=\"0\">\\r\\n    <tr> \\r\\n      <td align=\"center\" valign=\"top\">\\r\\n<table width=\"820\" border=\"0\" cellspacing=\"0\" cellpadding=\"0\">\\r\\n          <tr> \\r\\n            <td align=\"left\"><br>\\r\\n              <TABLE cellSpacing=0 cellPadding=5 width=820 border=0>\\r\\n                <TBODY>\\r\\n                  \\r\\n                  <TR> \\r\\n                    <TD>\\r\\n                     <BR>\\r\\n                     \\r\\n                      <OL style=\"FONT-WEIGHT: bold; FONT-SIZE: 12pt\" type=1>\\r\\npql server lost!!                        \\r\\n                      </OL>\\r\\n\\r\\n                      <!--<P class=t1320>若您有任何疑問，請您至 <A style=\"COLOR: #c90026; TEXT-DECORATION: underline\" href=\"https://paystore.pcstore.com.tw/adm/appeal.htm\"><FONT face=\"arial, verdana\">PChome</FONT> 商店街「客服中心」</A> 與我們連絡。</P>-->\\r\\n                      \\r\\n                      \\r\\n                    </TD>\\r\\n                  </TR>\\r\\n                  <TR> \\r\\n                    <TD align=right><BR>\\r\\n                      <BR>\\r\\n                      <!--<SPAN class=t16><FONT style=\"FONT-WEIGHT: bold\" face=verdana arial>PChome</FONT><FONT style=\"FONT-WEIGHT: bold\"> 商店街</FONT> 客服中心 敬上</SPAN>-->\\r\\n                    </TD>\\r\\n                  </TR>\\r\\n                </TBODY>\\r\\n              </TABLE>\\r\\n              <BR> <DIV align=center> \\r\\n                <TABLE cellSpacing=0 cellPadding=0 align=center border=0>\\r\\n                  <TBODY>\\r\\n                    <TR> \\r\\n                      <TD align=middle><A href=\"javascript:history.back()\">回上一頁<STRONG style=\"FONT-FAMILY: verdana\">&raquo;</STRONG></A></TD>\\r\\n                                          <TD align=middle>&nbsp;&nbsp;&nbsp;&nbsp;&nbsp;</TD>\\r\\n                                            <TD align=middle><A href=\"http://www.pcstore.com.tw/\">回商店街首頁<STRONG style=\"FONT-FAMILY: verdana\">&raquo;</STRONG></A></TD>\\r\\n                                          </TR>\\r\\n                  </TBODY>\\r\\n                </TABLE>\\r\\n              </DIV> \\r\\n              \\r\\n              </td>\\r\\n          </tr>\\r\\n        </table>\\r\\n        <br>\\r\\n        <div align=\"right\"></div></td>\\r\\n    </tr>\\r\\n  </table>\\r\\n  <!--內容結束 -->\\r\\n\\r\\n</div>\\r\\n<!-- 主區 END -->\\r\\n<!-- 這個清除元素應該緊接在 #mainContent Div 之後，以便強制 #container Div 包含所有子浮動 -->\\r\\n<br class=\"clearfloat\">\\r\\n<div id=\"footer_b\">\\r\\n商店街市集國際資訊股份有限公司版權所有，轉載必究。<a href=\"http://www.pcstore.com.tw/adm/privacy.htm\">隱私權聲明</a>\\r\\n</div>\\r\\n\\r\\n</div>\\r\\n</form>\\r\\n<!--/\\r\\n/-->\\r\\n\\r\\n</body>\\r\\n</html>\\r\\n<script language=\"JavaScript\">\\r\\n  var html_end_js_var=true;\\r\\n</script>\\r\\n'"
      ]
     },
     "execution_count": 12,
     "metadata": {},
     "output_type": "execute_result"
    }
   ],
   "source": [
    "pchome_res.text\n"
   ]
  },
  {
   "cell_type": "code",
   "execution_count": null,
   "metadata": {
    "collapsed": true
   },
   "outputs": [],
   "source": []
  },
  {
   "cell_type": "code",
   "execution_count": null,
   "metadata": {
    "collapsed": true
   },
   "outputs": [],
   "source": []
  }
 ],
 "metadata": {
  "kernelspec": {
   "display_name": "Python 3",
   "language": "python",
   "name": "python3"
  },
  "language_info": {
   "codemirror_mode": {
    "name": "ipython",
    "version": 3
   },
   "file_extension": ".py",
   "mimetype": "text/x-python",
   "name": "python",
   "nbconvert_exporter": "python",
   "pygments_lexer": "ipython3",
   "version": "3.6.1"
  }
 },
 "nbformat": 4,
 "nbformat_minor": 2
}
