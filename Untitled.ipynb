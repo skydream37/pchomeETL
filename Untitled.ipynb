{
 "cells": [
  {
   "cell_type": "code",
   "execution_count": 1,
   "metadata": {
    "collapsed": true
   },
   "outputs": [],
   "source": [
    "from bs4 import BeautifulSoup\n",
    "import requests as res\n"
   ]
  },
  {
   "cell_type": "code",
   "execution_count": 7,
   "metadata": {
    "collapsed": false
   },
   "outputs": [
    {
     "data": {
      "text/plain": [
       "<Response [200]>"
      ]
     },
     "execution_count": 7,
     "metadata": {},
     "output_type": "execute_result"
    }
   ],
   "source": [
    "pchome_res=res.get('http://www.pcstore.com.tw/stexh/N104714?pa=000013104714')\n",
    "pchome_res.encoding = 'big5'\n",
    "pchome_res"
   ]
  },
  {
   "cell_type": "code",
   "execution_count": 8,
   "metadata": {
    "collapsed": false
   },
   "outputs": [],
   "source": [
    "pchome_soup = BeautifulSoup(pchome_res.text,'lxml')"
   ]
  },
  {
   "cell_type": "code",
   "execution_count": 9,
   "metadata": {
    "collapsed": false
   },
   "outputs": [
    {
     "data": {
      "text/plain": [
       "<!DOCTYPE html PUBLIC \"-//W3C//DTD XHTML 1.0 Transitional//EN\" \"http://www.w3.org/TR/xhtml1/DTD/xhtml1-transitional.dtd\">\n",
       "<html xmlns=\"http://www.w3.org/1999/xhtml\">\n",
       "<head>\n",
       "<meta content=\"text/html; charset=utf-8\" http-equiv=\"Content-Type\"/>\n",
       "<title>PChome 商店街</title>\n",
       "<link href=\"http://img.pcstore.com.tw/web_img/favicon.ico\" rel=\"icon\" type=\"image/x-icon\"/>\n",
       "<link href=\"http://img.pcstore.com.tw/web_img/favicon.ico\" rel=\"shortcut icon\" type=\"image/x-icon\"/>\n",
       "<link href=\"/css/style_lm2_normal.css?t=10\" rel=\"stylesheet\" type=\"text/css\"/>\n",
       "<link href=\"/css/real_fcache/grid_bar.css?t=1495615758\" rel=\"stylesheet\" type=\"text/css\"/>\n",
       "<link href=\"/css/style.css?t=1224830081\" rel=\"stylesheet\" type=\"text/css\"/>\n",
       "<script language=\"JavaScript\" src=\"/css/extjs/ext.js?t=10\"></script>\n",
       "<script language=\"JavaScript\" src=\"/css/extjs/stern3.js?t=10\"></script>\n",
       "<script language=\"JavaScript\" src=\"/css/store.js?t=35\"></script>\n",
       "<script language=\"JavaScript\" src=\"/css/store_tools.js?t=12\"></script>\n",
       "<script language=\"JavaScript\" src=\"/css/search_autoword.js?t=10\"></script>\n",
       "<script language=\"javascript\" src=\"http://img.pcstore.com.tw/jcss/dynimg.js?pimg=static&amp;p=8\"></script>\n",
       "</head>\n",
       "<body class=\"twoColFixLtHdr\">\n",
       "<a name=\"top\"></a>\n",
       "<form action=\"\" method=\"post\" name=\"main_store\" onsubmit=\"return false;\">\n",
       "<div id=\"container\">\n",
       "<!-- 最上方資訊列 START -->\n",
       "<script language=\"JavaScript\" type=\"text/JavaScript\">\n",
       "  function mob_checkprc() {\n",
       "    if (window.location.protocol == \"http:\" && (window.location.href.indexOf('/',8) == window.location.href.lastIndexOf('/') || window.location.href.match(/\\/index.htm/i) )\n",
       "       ) { \n",
       "      jscookie = new CookieHaldle(\"/\",window.location.host.replace(/(.+\\.)(.*pc?store.com.tw)/, \"$2\"));\n",
       "      if (jscookie.getCookie(\"mob_frto\") != null && jscookie.getCookie(\"mob_frto\") == 1) { return; }\n",
       "      \n",
       "      var mob_t1,mob_t2,mob_wcm,mob_hcm,mob_diagonal,mob_scr_inh,mob_dvs;\n",
       "      mob_t_w=window.screen.width;  mob_t_h=window.screen.height;\n",
       "      mob_diagonal=Math.pow(mob_t_w,2)+Math.pow(mob_t_h,2);\n",
       "      mob_diagonal=Math.sqrt(mob_diagonal);\n",
       "      mob_dvs=145;  // 96\n",
       "      if (mob_t_h >= 1280) { mob_dvs=350; }\n",
       "      mob_diagonal=mob_diagonal/mob_dvs;  \n",
       "      mob_diagonal=mob_diagonal.toFixed(2);\n",
       "\n",
       "      if (mob_diagonal < 7) { \n",
       "        //window.location.href='http://m.pcstore.com.tw'+'?'+mob_diagonal;\n",
       "        jscookie.setCookie(\"mob_frto\", 3); \n",
       "        window.location.href='http://m.pcstore.com.tw'; \n",
       "      }\n",
       "    }\n",
       "  }\n",
       "  mob_checkprc();\n",
       "  //eventUtil.ready(mob_checkprc);  \n",
       "  \n",
       "  function mob_frtoprc() {\n",
       "    var mob_frto;\n",
       "    jscookie = new CookieHaldle(\"/\",window.location.host.replace(/(.+\\.)(.*pc?store.com.tw)/, \"$2\"));\n",
       "    mob_frto=2;\n",
       "    jscookie.setCookie(\"mob_frto\", mob_frto); \n",
       "    window.location.href='http://m.pcstore.com.tw'; \n",
       "  }\n",
       "</script>\n",
       "<div id=\"header_v3\">\n",
       "<div class=\"left\"><a href=\"http://www.pcstore.com.tw/\"><img border=\"0\" height=\"42\" src=\"http://img.pcstore.com.tw/web_img/spacer.gif\" surl=\"http://img.pcstore.com.tw/web_img/st/pchome_logo.gif\" width=\"252\"/></a><br/>\n",
       "<span class=\"t11\"><span class=\"left\">今日商品</span><span class=\"leftcon-left\"> </span><span class=\"leftcon-right\">137,951,240</span><span class=\"left\" style=\"margin-right:8px;\">件</span></span>\n",
       "<span class=\"t11\"><span class=\"left\">店家</span><span class=\"leftcon-left\"> </span><span class=\"leftcon-right\">24,545</span><span class=\"left\">家</span></span>\n",
       "</div>\n",
       "<div class=\"right\">\n",
       "<span class=\"rightcon-right\">\n",
       "<span><img align=\"absmiddle\" height=\"5\" src=\"http://img.pcstore.com.tw/web_img/spacer.gif\" surl=\"http://img.pcstore.com.tw/web_img/st/arrow_2.gif\" width=\"3\"/><a onclick=\"mob_frtoprc()\" style=\"cursor:pointer\">手機版</a></span><span><img align=\"absmiddle\" height=\"5\" src=\"http://img.pcstore.com.tw/web_img/spacer.gif\" surl=\"http://img.pcstore.com.tw/web_img/st/arrow_2.gif\" width=\"3\"/><a href=\"http://www.pcstore.com.tw/\">商店街</a></span><span><img align=\"absmiddle\" height=\"5\" src=\"http://img.pcstore.com.tw/web_img/spacer.gif\" surl=\"http://img.pcstore.com.tw/web_img/st/arrow_2.gif\" width=\"3\"/><a href=\"http://www.pchome.com.tw/\" target=\"_BLANK\">PChome</a></span><span><img align=\"absmiddle\" height=\"5\" src=\"http://img.pcstore.com.tw/web_img/spacer.gif\" surl=\"http://img.pcstore.com.tw/web_img/st/arrow_2.gif\" width=\"3\"/><a href=\"http://seller.pcstore.com.tw/service/\" target=\"_blank\">客服中心</a></span><span><img align=\"absmiddle\" height=\"5\" src=\"http://img.pcstore.com.tw/web_img/spacer.gif\" surl=\"http://img.pcstore.com.tw/web_img/st/arrow_2.gif\" width=\"3\"/><a href=\"https://paystore.pcstore.com.tw/adm/myacc_ordlist.htm\"><b>登入</b></a></span>\n",
       "</span>\n",
       "<div class=\"clear\"></div>\n",
       "<div class=\"rightcon-bottom\">\n",
       "<span class=\"t12b\"><img align=\"absmiddle\" height=\"12\" src=\"http://img.pcstore.com.tw/web_img/spacer.gif\" surl=\"http://img.pcstore.com.tw/web_img/st/arrow_1.gif\" width=\"13\"/><a href=\"http://boss.pcstore.com.tw/ad.htm?ad=top\">我要開店</a></span>\n",
       "<span class=\"t12b\"><img align=\"absmiddle\" height=\"12\" src=\"http://img.pcstore.com.tw/web_img/spacer.gif\" surl=\"http://img.pcstore.com.tw/web_img/st/arrow_1.gif\" width=\"13\"/><a href=\"\" style=\"color:#ff0000\" target=\"_BLANK\">個人賣場</a></span>\n",
       "<span class=\"t12b\"><img align=\"absmiddle\" height=\"12\" src=\"http://img.pcstore.com.tw/web_img/spacer.gif\" surl=\"http://img.pcstore.com.tw/web_img/st/arrow_1.gif\" width=\"13\"/><a href=\"https://paystore.pcstore.com.tw/adm/myacc_ordlist.htm\">我的帳戶</a></span>\n",
       "<span class=\"t12b\"><img align=\"absmiddle\" height=\"12\" src=\"http://img.pcstore.com.tw/web_img/spacer.gif\" surl=\"http://img.pcstore.com.tw/web_img/st/arrow_1.gif\" width=\"13\"/><a href=\"http://www.pcstore.com.tw/adm/buy_cart_list.htm\">購物車</a></span>\n",
       "</div>\n",
       "</div>\n",
       "<div id=\"top-search\">\n",
       "<select class=\"search_option\" name=\"slt_k_option\" onclick=\"this.size=1;\" onmouseout=\"this.size=1;\" onmouseover=\"this.size=7;\" size=\"1\">\n",
       "<option value=\"1\">全部商品</option>\n",
       "<option value=\"14\">24h快速到貨</option>\n",
       "<option value=\"12\">跨店490</option>\n",
       "<option value=\"2\">商場名稱</option>\n",
       "<option value=\"9\">隔日配</option>\n",
       "<option value=\"8\">超商取貨</option>\n",
       "<option value=\"7\">集殺商品</option>\n",
       "<option value=\"10\">商品編號</option>\n",
       "</select>\n",
       "<input autocomplete=\"off\" id=\"id_search_word\" lang=\"zh-TW\" name=\"store_k_word\" onfocus=\"bind_autoslt();\" onkeydown=\"updownselect(this, event);p_keydown(this.value, 'psearch', '/adm/psearch.htm','',event)\" onkeyup=\"autodirection(this, event)\" size=\"20\" title=\"NOT_CHECK\" type=\"text\" value=\"\" x-webkit-grammar=\"builtin:search\" x-webkit-speech=\"\"/><img class=\"search_btn\" onclick=\"s_k_search('/adm/psearch.htm')\" src=\"http://img.pcstore.com.tw/web_img/spacer.gif\" surl=\"http://img.pcstore.com.tw/web_img/st/top_search_button.png\"/>\n",
       "<a class=\"t10\" href=\"/adm/psearch_plus.htm\">進階»</a>\n",
       "<div id=\"id_search_area\" style=\"clear:both;position:absolute;left:98px;top:35px;\"></div>\n",
       "</div>\n",
       "</div>\n",
       "<div class=\"clear\"></div>\n",
       "<!-- 最上方資訊列 END -->\n",
       "<!-- 主功能區塊 START -->\n",
       "<!-- 牙齒 START -->\n",
       "<div class=\"thMenu_bar\">\n",
       "<a class=\"thMenu_store\" href=\"http://www.pcstore.com.tw/index_ct.htm\"><!--專櫃--></a>\n",
       "<a class=\"thMenu_boss\" href=\"http://boss.pcstore.com.tw/ad.htm?ad=tag\"><!--開店--></a>\n",
       "<a class=\"thMenu_shopping\" href=\"http://mall.pcstore.com.tw\"><!--購物中心--></a>\n",
       "<a class=\"thMenu_c2c\" href=\"http://seller.pcstore.com.tw/\"><!--個人賣場--></a>\n",
       "<a class=\"thMenu_fashion\" href=\"http://boss.pcstore.com.tw/ad.htm?ad=fa170529\"><!--女性流行--></a>\n",
       "<a class=\"thMenu_baby\" href=\"http://boss.pcstore.com.tw/ad.htm?ad=baby170529\"><!--婦幼親子--></a>\n",
       "<a class=\"thMenu_life\" href=\"http://boss.pcstore.com.tw/ad.htm?ad=life170529\"><!--居家寵物--></a>\n",
       "<a class=\"thMenu_man\" href=\"http://boss.pcstore.com.tw/ad.htm?ad=men170529\"><!--運動休閒--></a>\n",
       "<a class=\"thMenu_3c\" href=\"http://boss.pcstore.com.tw/ad.htm?ad=3C170529\"><!--3C週邊--></a>\n",
       "<a class=\"thMenu_appliances\" href=\"http://boss.pcstore.com.tw/ad.htm?ad=ia170529\"><!--生活家電--></a>\n",
       "<a class=\"thMenu_food\" href=\"http://boss.pcstore.com.tw/ad.htm?ad=food170529\"><!--美食保健--></a>\n",
       "<a class=\"thMenu_event\" href=\"http://www.pcstore.com.tw/pchome24h/\" target=\"_blank\"><!--活動用--></a>\n",
       "</div>\n",
       "<!-- 牙齒 END -->\n",
       "</div></form></body></html>\n",
       "<!-- 氣氛圖 -->"
      ]
     },
     "execution_count": 9,
     "metadata": {},
     "output_type": "execute_result"
    }
   ],
   "source": [
    "pchome_soup\n"
   ]
  },
  {
   "cell_type": "code",
   "execution_count": 5,
   "metadata": {
    "collapsed": true
   },
   "outputs": [],
   "source": [
    "#keyad-pro-right3 > div.pic2.pic2-sclass > div.shoppingfee > a > span"
   ]
  },
  {
   "cell_type": "code",
   "execution_count": 6,
   "metadata": {
    "collapsed": false
   },
   "outputs": [
    {
     "data": {
      "text/plain": [
       "'<!DOCTYPE html PUBLIC \"-//W3C//DTD XHTML 1.0 Transitional//EN\" \"http://www.w3.org/TR/xhtml1/DTD/xhtml1-transitional.dtd\">\\r\\n<html xmlns=\"http://www.w3.org/1999/xhtml\">\\r\\n<head>\\r\\n<meta http-equiv=\"Content-Type\" content=\"text/html; charset=big5\">\\r\\n<title>PChome �ө���</title>\\r\\n<link rel=\"icon\" href=\"http://img.pcstore.com.tw/web_img/favicon.ico\" type=\"image/x-icon\">\\n<link rel=\"shortcut icon\" href=\"http://img.pcstore.com.tw/web_img/favicon.ico\" type=\"image/x-icon\">\\n<link href=\"/css/style_lm2_normal.css?t=10\" rel=\"stylesheet\" type=\"text/css\">\\n<link href=\"/css/real_fcache/grid_bar.css?t=1495615758\" rel=\"stylesheet\" type=\"text/css\">\\n<link href=\"/css/style.css?t=1224830081\" rel=\"stylesheet\" type=\"text/css\">\\r\\n<script language=\"JavaScript\" src=\"/css/extjs/ext.js?t=10\"></script> \\r\\n<script language=\"JavaScript\" src=\"/css/extjs/stern3.js?t=10\"></script>\\r\\n<script language=\"JavaScript\" src=\"/css/store.js?t=35\"></script>\\r\\n<script language=\"JavaScript\" src=\"/css/store_tools.js?t=12\"></script>\\r\\n<script language=\"JavaScript\" src=\"/css/search_autoword.js?t=10\"></script>\\r\\n\\r\\n<script language=\"javascript\" src=\"http://img.pcstore.com.tw/jcss/dynimg.js?pimg=static&p=8\"></script>\\r\\n</head>\\r\\n\\r\\n<body class=\"twoColFixLtHdr\">\\r\\n<a name=\"top\"></a>\\r\\n<form method=\"post\" name=\"main_store\" onSubmit=\"return false;\" action=\"\">\\r\\n<div id=\"container\">\\r\\n<!-- �̤W���T�C START -->\\r\\n<script language=\"JavaScript\" type=\"text/JavaScript\">\\r\\n  function mob_checkprc() {\\r\\n    if (window.location.protocol == \"http:\" && (window.location.href.indexOf(\\'/\\',8) == window.location.href.lastIndexOf(\\'/\\') || window.location.href.match(/\\\\/index.htm/i) )\\r\\n       ) { \\r\\n      jscookie = new CookieHaldle(\"/\",window.location.host.replace(/(.+\\\\.)(.*pc?store.com.tw)/, \"$2\"));\\r\\n      if (jscookie.getCookie(\"mob_frto\") != null && jscookie.getCookie(\"mob_frto\") == 1) { return; }\\r\\n      \\r\\n      var mob_t1,mob_t2,mob_wcm,mob_hcm,mob_diagonal,mob_scr_inh,mob_dvs;\\r\\n      mob_t_w=window.screen.width;  mob_t_h=window.screen.height;\\r\\n      mob_diagonal=Math.pow(mob_t_w,2)+Math.pow(mob_t_h,2);\\r\\n      mob_diagonal=Math.sqrt(mob_diagonal);\\r\\n      mob_dvs=145;  // 96\\r\\n      if (mob_t_h >= 1280) { mob_dvs=350; }\\r\\n      mob_diagonal=mob_diagonal/mob_dvs;  \\r\\n      mob_diagonal=mob_diagonal.toFixed(2);\\r\\n\\r\\n      if (mob_diagonal < 7) { \\r\\n        //window.location.href=\\'http://m.pcstore.com.tw\\'+\\'?\\'+mob_diagonal;\\r\\n        jscookie.setCookie(\"mob_frto\", 3); \\r\\n        window.location.href=\\'http://m.pcstore.com.tw\\'; \\r\\n      }\\r\\n    }\\r\\n  }\\r\\n  mob_checkprc();\\r\\n  //eventUtil.ready(mob_checkprc);  \\r\\n  \\r\\n  function mob_frtoprc() {\\r\\n    var mob_frto;\\r\\n    jscookie = new CookieHaldle(\"/\",window.location.host.replace(/(.+\\\\.)(.*pc?store.com.tw)/, \"$2\"));\\r\\n    mob_frto=2;\\r\\n    jscookie.setCookie(\"mob_frto\", mob_frto); \\r\\n    window.location.href=\\'http://m.pcstore.com.tw\\'; \\r\\n  }\\r\\n</script>\\r\\n<div id=\"header_v3\">\\r\\n  <div class=\"left\"><a href=\"http://www.pcstore.com.tw/\"><img src=\"http://img.pcstore.com.tw/web_img/spacer.gif\" surl=\"http://img.pcstore.com.tw/web_img/st/pchome_logo.gif\" width=\"252\" height=\"42\" border=\"0\"></a><br>\\r\\n\\r\\n  <span class=\"t11\"><span class=\"left\">����ӫ~</span><span class=\"leftcon-left\">&nbsp;</span><span class=\"leftcon-right\">137,951,240</span><span class=\"left\" style=\"margin-right:8px;\">��</span></span>\\r\\n  <span class=\"t11\"><span class=\"left\">���a</span><span class=\"leftcon-left\">&nbsp;</span><span class=\"leftcon-right\">24,545</span><span class=\"left\">�a</span></span>\\r\\n  </div>\\r\\n \\r\\n  <div class=\"right\">\\r\\n    <span class=\"rightcon-right\">    \\t\\r\\n      <span><img src=\"http://img.pcstore.com.tw/web_img/spacer.gif\" surl=\"http://img.pcstore.com.tw/web_img/st/arrow_2.gif\" width=\"3\" height=\"5\" align=\"absmiddle\"><a onclick=\"mob_frtoprc()\" style=\"cursor:pointer\">�����</a></span><span><img src=\"http://img.pcstore.com.tw/web_img/spacer.gif\" surl=\"http://img.pcstore.com.tw/web_img/st/arrow_2.gif\" width=\"3\" height=\"5\" align=\"absmiddle\"><a href=\"http://www.pcstore.com.tw/\">�ө���</a></span><span><img src=\"http://img.pcstore.com.tw/web_img/spacer.gif\" surl=\"http://img.pcstore.com.tw/web_img/st/arrow_2.gif\" width=\"3\" height=\"5\" align=\"absmiddle\"><a href=\"http://www.pchome.com.tw/\" target=\"_BLANK\">PChome</a></span><span><img src=\"http://img.pcstore.com.tw/web_img/spacer.gif\" surl=\"http://img.pcstore.com.tw/web_img/st/arrow_2.gif\" width=\"3\" height=\"5\" align=\"absmiddle\"><a href=\"http://seller.pcstore.com.tw/service/\" target=\"_blank\">�ȪA����</a></span><span><img src=\"http://img.pcstore.com.tw/web_img/spacer.gif\" surl=\"http://img.pcstore.com.tw/web_img/st/arrow_2.gif\" width=\"3\" height=\"5\" align=\"absmiddle\"><a href=\"https://paystore.pcstore.com.tw/adm/myacc_ordlist.htm\"><b>�n�J</b></a></span>\\r\\n    </span>\\r\\n    <div class=\"clear\"></div>\\r\\n    <div class=\"rightcon-bottom\">        \\t\\r\\n    <span class=\"t12b\"><img src=\"http://img.pcstore.com.tw/web_img/spacer.gif\" surl=\"http://img.pcstore.com.tw/web_img/st/arrow_1.gif\" width=\"13\" height=\"12\" align=\"absmiddle\"><a href=\"http://boss.pcstore.com.tw/ad.htm?ad=top\">�ڭn�}��</a></span>    \\r\\n    <span class=\"t12b\"><img src=\"http://img.pcstore.com.tw/web_img/spacer.gif\" surl=\"http://img.pcstore.com.tw/web_img/st/arrow_1.gif\" width=\"13\" height=\"12\" align=\"absmiddle\"><a href=\"\" style=\"color:#ff0000\" target=\"_BLANK\">�ӤH���</a></span> \\r\\n    <span class=\"t12b\"><img src=\"http://img.pcstore.com.tw/web_img/spacer.gif\" surl=\"http://img.pcstore.com.tw/web_img/st/arrow_1.gif\" width=\"13\" height=\"12\" align=\"absmiddle\"><a href=\"https://paystore.pcstore.com.tw/adm/myacc_ordlist.htm\">�ڪ��b��</a></span>\\r\\n    <span class=\"t12b\"><img src=\"http://img.pcstore.com.tw/web_img/spacer.gif\" surl=\"http://img.pcstore.com.tw/web_img/st/arrow_1.gif\" width=\"13\" height=\"12\" align=\"absmiddle\"><a href=\"http://www.pcstore.com.tw/adm/buy_cart_list.htm\">�ʪ���</a></span>\\r\\n    </div>\\r\\n  </div>\\r\\n\\r\\n  <div id=\"top-search\">\\r\\n      <select class=\"search_option\" name=\"slt_k_option\" onmouseout=\"this.size=1;\" onmouseover=\"this.size=7;\" onclick=\"this.size=1;\" size=\"1\">  \\r\\n        <option value=\"1\" >�����ӫ~</option>\\r\\n        <option value=\"14\" >24h�ֳt��f</option>\\r\\n        <option value=\"12\" >��490</option>\\r\\n        <option value=\"2\" >�ӳ��W��</option>\\r\\n                <option value=\"9\" >�j��t</option>\\r\\n        <option value=\"8\" >�W�Ө��f</option>\\r\\n                <option value=\"7\" >�����ӫ~</option>\\r\\n        <option value=\"10\" >�ӫ~�s��</option>\\r\\n                </select>        \\r\\n        <input x-webkit-speech=\"\" lang=\"zh-TW\" x-webkit-grammar=\"builtin:search\" id=\"id_search_word\" name=\"store_k_word\" type=\"text\" size=\"20\" value=\"\" onkeyup=\"autodirection(this, event)\" onkeydown=\"updownselect(this, event);p_keydown(this.value, \\'psearch\\', \\'/adm/psearch.htm\\',\\'\\',event)\" onfocus=\"bind_autoslt();\" title=\"NOT_CHECK\" autocomplete=\"off\"><img class=\"search_btn\" src=\"http://img.pcstore.com.tw/web_img/spacer.gif\" surl=\"http://img.pcstore.com.tw/web_img/st/top_search_button.png\" onclick=\"s_k_search(\\'/adm/psearch.htm\\')\">\\r\\n        <a href=\"/adm/psearch_plus.htm\" class=\"t10\">�i��&#187;</a>\\r\\n        <div style=\"clear:both;position:absolute;left:98px;top:35px;\" id=\"id_search_area\"></div>\\r\\n  </div>\\r\\n\\r\\n</div>\\r\\n<div class=\"clear\"></div>\\r\\n<!-- �̤W���T�C END -->\\r\\n\\r\\n<!-- �D�\\\\��϶� START -->\\r\\n  \\r\\n<body>\\r\\n<!-- ���� START -->\\r\\n<div class=\"thMenu_bar\">\\r\\n<a class=\"thMenu_store\" href=\"http://www.pcstore.com.tw/index_ct.htm\"><!--�M�d--></a>\\r\\n<a class=\"thMenu_boss\" href=\"http://boss.pcstore.com.tw/ad.htm?ad=tag\"><!--�}��--></a>\\r\\n<a class=\"thMenu_shopping\" href=\"http://mall.pcstore.com.tw\"><!--�ʪ�����--></a>\\r\\n<a class=\"thMenu_c2c\" href=\"http://seller.pcstore.com.tw/\"><!--�ӤH���--></a>\\r\\n\\r\\n<a class=\"thMenu_fashion\" href=\"http://boss.pcstore.com.tw/ad.htm?ad=fa170529\"><!--�k�ʬy��--></a>\\r\\n<a class=\"thMenu_baby\" href=\"http://boss.pcstore.com.tw/ad.htm?ad=baby170529\"><!--�����ˤl--></a>\\r\\n<a class=\"thMenu_life\" href=\"http://boss.pcstore.com.tw/ad.htm?ad=life170529\"><!--�~�a�d��--></a>\\r\\n<a class=\"thMenu_man\" href=\"http://boss.pcstore.com.tw/ad.htm?ad=men170529\"><!--�B�ʥ�--></a>\\r\\n<a class=\"thMenu_3c\" href=\"http://boss.pcstore.com.tw/ad.htm?ad=3C170529\"><!--3C�g��--></a>\\r\\n<a class=\"thMenu_appliances\" href=\"http://boss.pcstore.com.tw/ad.htm?ad=ia170529\"><!--�ͬ��a�q--></a>\\r\\n<a class=\"thMenu_food\" href=\"http://boss.pcstore.com.tw/ad.htm?ad=food170529\"><!--�����O��--></a>\\r\\n<a class=\"thMenu_event\" href=\"http://www.pcstore.com.tw/pchome24h/\" target=\"_blank\"><!--���ʥ�--></a>\\r\\n</div>\\r\\n<!-- ���� END -->\\r\\n</body>\\r\\n</html>  \\r\\n\\r\\n<!-- ��^�� -->\\r\\n<div class=\"cb_top10px\"></div>\\r\\n<!-- �������| -->\\r\\n<div id=\"nov-bar\"><a href=\"http://www.pchome.com.tw/\">PChome</a> > <a href=\"http://www.pcstore.com.tw/\">�ө��\\U000edead�</a> </div>\\r\\n<!-- �D�\\\\��϶� END -->\\r\\n\\r\\n<!-- �D�� START -->\\r\\n<div>\\r\\n\\r\\n  <!--���e�}�l -->\\r\\n  <table width=\"970\" border=\"0\" cellspacing=\"0\" cellpadding=\"0\">\\r\\n    <tr> \\r\\n      <td align=\"center\" valign=\"top\">\\r\\n<table width=\"820\" border=\"0\" cellspacing=\"0\" cellpadding=\"0\">\\r\\n          <tr> \\r\\n            <td align=\"left\"><br>\\r\\n              <TABLE cellSpacing=0 cellPadding=5 width=820 border=0>\\r\\n                <TBODY>\\r\\n                  \\r\\n                  <TR> \\r\\n                    <TD>\\r\\n                     <BR>\\r\\n                     \\r\\n                      <OL style=\"FONT-WEIGHT: bold; FONT-SIZE: 12pt\" type=1>\\r\\npql server lost!!                        \\r\\n                      </OL>\\r\\n\\r\\n                      <!--<P class=t1320>�Y�z������ðݡA�бz�� <A style=\"COLOR: #c90026; TEXT-DECORATION: underline\" href=\"https://paystore.pcstore.com.tw/adm/appeal.htm\"><FONT face=\"arial, verdana\">PChome</FONT> �ө���u�ȪA���ߡv</A> �P�ڭ̳s���C</P>-->\\r\\n                      \\r\\n                      \\r\\n                    </TD>\\r\\n                  </TR>\\r\\n                  <TR> \\r\\n                    <TD align=right><BR>\\r\\n                      <BR>\\r\\n                      <!--<SPAN class=t16><FONT style=\"FONT-WEIGHT: bold\" face=verdana arial>PChome</FONT><FONT style=\"FONT-WEIGHT: bold\"> �ө���</FONT> �ȪA���� �q�W</SPAN>-->\\r\\n                    </TD>\\r\\n                  </TR>\\r\\n                </TBODY>\\r\\n              </TABLE>\\r\\n              <BR> <DIV align=center> \\r\\n                <TABLE cellSpacing=0 cellPadding=0 align=center border=0>\\r\\n                  <TBODY>\\r\\n                    <TR> \\r\\n                      <TD align=middle><A href=\"javascript:history.back()\">�^�W�@��<STRONG style=\"FONT-FAMILY: verdana\">&raquo;</STRONG></A></TD>\\r\\n                                          <TD align=middle>&nbsp;&nbsp;&nbsp;&nbsp;&nbsp;</TD>\\r\\n                                            <TD align=middle><A href=\"http://www.pcstore.com.tw/\">�^�ө��\\U000edead�<STRONG style=\"FONT-FAMILY: verdana\">&raquo;</STRONG></A></TD>\\r\\n                                          </TR>\\r\\n                  </TBODY>\\r\\n                </TABLE>\\r\\n              </DIV> \\r\\n              \\r\\n              </td>\\r\\n          </tr>\\r\\n        </table>\\r\\n        <br>\\r\\n        <div align=\"right\"></div></td>\\r\\n    </tr>\\r\\n  </table>\\r\\n  <!--���e���� -->\\r\\n\\r\\n</div>\\r\\n<!-- �D�� END -->\\r\\n<!-- �o�ӲM���������Ӻ\\U000b1d66b #mainContent Div ����A�H�K�j�� #container Div �]�t�Ҧ��l�B�� -->\\r\\n<br class=\"clearfloat\">\\r\\n<div id=\"footer_b\">\\r\\n�ө��\\U000e5af6���ڸ�T�ѥ��������q���v�Ҧ��A������s�C<a href=\"http://www.pcstore.com.tw/adm/privacy.htm\">���p�v�n��</a>\\r\\n</div>\\r\\n\\r\\n</div>\\r\\n</form>\\r\\n<!--/\\r\\n/-->\\r\\n\\r\\n</body>\\r\\n</html>\\r\\n<script language=\"JavaScript\">\\r\\n  var html_end_js_var=true;\\r\\n</script>\\r\\n'"
      ]
     },
     "execution_count": 6,
     "metadata": {},
     "output_type": "execute_result"
    }
   ],
   "source": [
    "pchome_res.text\n"
   ]
  },
  {
   "cell_type": "code",
   "execution_count": null,
   "metadata": {
    "collapsed": true
   },
   "outputs": [],
   "source": []
  }
 ],
 "metadata": {
  "kernelspec": {
   "display_name": "Python 3",
   "language": "python",
   "name": "python3"
  },
  "language_info": {
   "codemirror_mode": {
    "name": "ipython",
    "version": 3
   },
   "file_extension": ".py",
   "mimetype": "text/x-python",
   "name": "python",
   "nbconvert_exporter": "python",
   "pygments_lexer": "ipython3",
   "version": "3.6.0"
  }
 },
 "nbformat": 4,
 "nbformat_minor": 2
}
